{
 "cells": [
  {
   "cell_type": "code",
   "execution_count": 105,
   "metadata": {},
   "outputs": [],
   "source": [
    "# Importing Libraries\n",
    "import os\n",
    "import pandas as pd\n",
    "\n",
    "# Handle Warning\n",
    "import warnings\n",
    "warnings.filterwarnings('ignore')"
   ]
  },
  {
   "cell_type": "markdown",
   "metadata": {},
   "source": [
    "## Problem Statement and Business Overview\n",
    "The significant rise in shipping demand has not been accompanied by a corresponding improvement in logistics companies' capabilities. Delayed deliveries pose risks in several sectors, particularly in retail e-commerce, where late shipments can disrupt the product supply chain and damage the retailer's credibility. Additionally, delays by shipping companies can lead to buyer dissatisfaction, potentially harming the retailer's reputation.\n",
    "\n",
    "### Goal\n",
    "Build a Binary Classifier for predicting the delay in logistic/product delivery for e-commerce order/supply dataset\n",
    "\n",
    "### Objectives\n",
    "* Analyze the data and determine the target feature (class) according to problem statement\n",
    "* Data Cleaning\n",
    "* Feature Extraction and EDA\n",
    "* Model Training and Predictions\n",
    "\n",
    "### Overview of Datasets\n",
    "The dataset contains following csv files\n",
    "1. df_customers - Customer details - customer_id, zip_code_prefix, city and state\n",
    "2. df_order_items - order details - order_id, product_id, seller_id, price, shipping_charges\n",
    "3. df_orders - order supply details - order_id, customer_id, order_status, order_purchase_timestamp, order_approved_at, order_delivered_timestamp, order_estimated_delivery_date\n",
    "4. df_payments - payment details of orders - order_id, payment_sequencial, payment_type, payment_installments, payment_value\n",
    "5. df_products - product details - product_id, product_catgory_name, product_weight_g, product_length_cm, product_height_cm, product_width_cm"
   ]
  },
  {
   "cell_type": "code",
   "execution_count": 106,
   "metadata": {},
   "outputs": [],
   "source": [
    "# Importing Datasets into dataframes\n",
    "names = ['Orders', 'Customers', 'Products', 'Payments',\n",
    "         'OrderItems']\n",
    "data = {}\n",
    "base_path = os.path.join(r\"C:\\Users\\vaibh\\Documents\\JobIntern\\Projects\\EcommerceOrdersSupply\\Data\")\n",
    "\n",
    "for name in names:\n",
    "    data[name] = pd.read_csv(os.path.join(base_path, f'df_{name}.csv'))"
   ]
  },
  {
   "cell_type": "markdown",
   "metadata": {},
   "source": [
    "## Data Preparation and Cleaning"
   ]
  },
  {
   "cell_type": "code",
   "execution_count": 107,
   "metadata": {},
   "outputs": [
    {
     "name": "stdout",
     "output_type": "stream",
     "text": [
      "Shape of dataframe Orders: (89316, 7)\n",
      "Shape of dataframe Customers: (89316, 4)\n",
      "Shape of dataframe Products: (89316, 6)\n",
      "Shape of dataframe Payments: (89316, 5)\n",
      "Shape of dataframe OrderItems: (89316, 5)\n"
     ]
    }
   ],
   "source": [
    "# Shapes of dataframes\n",
    "for name in names:\n",
    "    print(f'Shape of dataframe {name}: {data[name].shape}')"
   ]
  },
  {
   "cell_type": "code",
   "execution_count": 108,
   "metadata": {},
   "outputs": [
    {
     "name": "stdout",
     "output_type": "stream",
     "text": [
      "['order_id', 'customer_id', 'order_status', 'order_purchase_timestamp', 'order_approved_at', 'order_delivered_timestamp', 'order_estimated_delivery_date']\n",
      "['customer_id', 'customer_zip_code_prefix', 'customer_city', 'customer_state']\n",
      "['product_id', 'product_category_name', 'product_weight_g', 'product_length_cm', 'product_height_cm', 'product_width_cm']\n",
      "['order_id', 'payment_sequential', 'payment_type', 'payment_installments', 'payment_value']\n",
      "['order_id', 'product_id', 'seller_id', 'price', 'shipping_charges']\n"
     ]
    }
   ],
   "source": [
    "# Columns of dataframes\n",
    "for name in names:\n",
    "    print(list(data[name].columns))"
   ]
  },
  {
   "cell_type": "markdown",
   "metadata": {},
   "source": [
    "* We will merge the dataframes to create one consise dataframe containing all features for each order"
   ]
  },
  {
   "cell_type": "code",
   "execution_count": 109,
   "metadata": {},
   "outputs": [
    {
     "name": "stdout",
     "output_type": "stream",
     "text": [
      "Number of duplicates in Orders dataframe: 0\n",
      "Number of duplicates in Customers dataframe: 0\n",
      "Number of duplicates in Products dataframe: 61865\n",
      "Number of duplicates in Payments dataframe: 0\n",
      "Number of duplicates in OrderItems dataframe: 0\n"
     ]
    }
   ],
   "source": [
    "# First check for duplicates\n",
    "for name in names:\n",
    "    print(f'Number of duplicates in {name} dataframe: {data[name].duplicated().sum()}')"
   ]
  },
  {
   "cell_type": "code",
   "execution_count": 110,
   "metadata": {},
   "outputs": [
    {
     "data": {
      "text/html": [
       "<div>\n",
       "<style scoped>\n",
       "    .dataframe tbody tr th:only-of-type {\n",
       "        vertical-align: middle;\n",
       "    }\n",
       "\n",
       "    .dataframe tbody tr th {\n",
       "        vertical-align: top;\n",
       "    }\n",
       "\n",
       "    .dataframe thead th {\n",
       "        text-align: right;\n",
       "    }\n",
       "</style>\n",
       "<table border=\"1\" class=\"dataframe\">\n",
       "  <thead>\n",
       "    <tr style=\"text-align: right;\">\n",
       "      <th></th>\n",
       "      <th>order_id</th>\n",
       "      <th>customer_id</th>\n",
       "      <th>order_status</th>\n",
       "      <th>order_purchase_timestamp</th>\n",
       "      <th>order_approved_at</th>\n",
       "      <th>order_delivered_timestamp</th>\n",
       "      <th>order_estimated_delivery_date</th>\n",
       "      <th>product_id</th>\n",
       "      <th>seller_id</th>\n",
       "      <th>price</th>\n",
       "      <th>...</th>\n",
       "      <th>customer_state</th>\n",
       "      <th>product_category_name</th>\n",
       "      <th>product_weight_g</th>\n",
       "      <th>product_length_cm</th>\n",
       "      <th>product_height_cm</th>\n",
       "      <th>product_width_cm</th>\n",
       "      <th>payment_sequential</th>\n",
       "      <th>payment_type</th>\n",
       "      <th>payment_installments</th>\n",
       "      <th>payment_value</th>\n",
       "    </tr>\n",
       "  </thead>\n",
       "  <tbody>\n",
       "    <tr>\n",
       "      <th>0</th>\n",
       "      <td>Axfy13Hk4PIk</td>\n",
       "      <td>hCT0x9JiGXBQ</td>\n",
       "      <td>delivered</td>\n",
       "      <td>2017-10-22 18:57:54</td>\n",
       "      <td>2017-10-22 19:14:13</td>\n",
       "      <td>2017-10-26 22:19:52</td>\n",
       "      <td>2017-11-09</td>\n",
       "      <td>90K0C1fIyQUf</td>\n",
       "      <td>ZWM05J9LcBSF</td>\n",
       "      <td>223.51</td>\n",
       "      <td>...</td>\n",
       "      <td>SP</td>\n",
       "      <td>toys</td>\n",
       "      <td>491.0</td>\n",
       "      <td>19.0</td>\n",
       "      <td>12.0</td>\n",
       "      <td>16.0</td>\n",
       "      <td>1</td>\n",
       "      <td>credit_card</td>\n",
       "      <td>1</td>\n",
       "      <td>259.14</td>\n",
       "    </tr>\n",
       "  </tbody>\n",
       "</table>\n",
       "<p>1 rows × 23 columns</p>\n",
       "</div>"
      ],
      "text/plain": [
       "       order_id   customer_id order_status order_purchase_timestamp  \\\n",
       "0  Axfy13Hk4PIk  hCT0x9JiGXBQ    delivered      2017-10-22 18:57:54   \n",
       "\n",
       "     order_approved_at order_delivered_timestamp  \\\n",
       "0  2017-10-22 19:14:13       2017-10-26 22:19:52   \n",
       "\n",
       "  order_estimated_delivery_date    product_id     seller_id   price  ...  \\\n",
       "0                    2017-11-09  90K0C1fIyQUf  ZWM05J9LcBSF  223.51  ...   \n",
       "\n",
       "   customer_state  product_category_name product_weight_g product_length_cm  \\\n",
       "0              SP                   toys            491.0              19.0   \n",
       "\n",
       "  product_height_cm  product_width_cm  payment_sequential  payment_type  \\\n",
       "0              12.0              16.0                   1   credit_card   \n",
       "\n",
       "   payment_installments  payment_value  \n",
       "0                     1         259.14  \n",
       "\n",
       "[1 rows x 23 columns]"
      ]
     },
     "execution_count": 110,
     "metadata": {},
     "output_type": "execute_result"
    }
   ],
   "source": [
    "# Merge\n",
    "data['Products'] = data['Products'].drop_duplicates()\n",
    "df = data['Orders'].merge(data['OrderItems'], on='order_id', how='left')\n",
    "df = df.merge(data['Customers'], on='customer_id', how='left')\n",
    "df = df.merge(data['Products'], on='product_id', how='left')\n",
    "df = df.merge(data['Payments'], on='order_id', how='left')\n",
    "df.head(1)"
   ]
  },
  {
   "cell_type": "code",
   "execution_count": 111,
   "metadata": {},
   "outputs": [
    {
     "name": "stdout",
     "output_type": "stream",
     "text": [
      "<class 'pandas.core.frame.DataFrame'>\n",
      "RangeIndex: 89316 entries, 0 to 89315\n",
      "Data columns (total 23 columns):\n",
      " #   Column                         Non-Null Count  Dtype  \n",
      "---  ------                         --------------  -----  \n",
      " 0   order_id                       89316 non-null  object \n",
      " 1   customer_id                    89316 non-null  object \n",
      " 2   order_status                   89316 non-null  object \n",
      " 3   order_purchase_timestamp       89316 non-null  object \n",
      " 4   order_approved_at              89307 non-null  object \n",
      " 5   order_delivered_timestamp      87427 non-null  object \n",
      " 6   order_estimated_delivery_date  89316 non-null  object \n",
      " 7   product_id                     89316 non-null  object \n",
      " 8   seller_id                      89316 non-null  object \n",
      " 9   price                          89316 non-null  float64\n",
      " 10  shipping_charges               89316 non-null  float64\n",
      " 11  customer_zip_code_prefix       89316 non-null  int64  \n",
      " 12  customer_city                  89316 non-null  object \n",
      " 13  customer_state                 89316 non-null  object \n",
      " 14  product_category_name          89008 non-null  object \n",
      " 15  product_weight_g               89301 non-null  float64\n",
      " 16  product_length_cm              89301 non-null  float64\n",
      " 17  product_height_cm              89301 non-null  float64\n",
      " 18  product_width_cm               89301 non-null  float64\n",
      " 19  payment_sequential             89316 non-null  int64  \n",
      " 20  payment_type                   89316 non-null  object \n",
      " 21  payment_installments           89316 non-null  int64  \n",
      " 22  payment_value                  89316 non-null  float64\n",
      "dtypes: float64(7), int64(3), object(13)\n",
      "memory usage: 15.7+ MB\n"
     ]
    }
   ],
   "source": [
    "df.info()"
   ]
  },
  {
   "cell_type": "code",
   "execution_count": 112,
   "metadata": {},
   "outputs": [
    {
     "name": "stdout",
     "output_type": "stream",
     "text": [
      "<class 'pandas.core.frame.DataFrame'>\n",
      "RangeIndex: 89316 entries, 0 to 89315\n",
      "Data columns (total 23 columns):\n",
      " #   Column                         Non-Null Count  Dtype         \n",
      "---  ------                         --------------  -----         \n",
      " 0   order_id                       89316 non-null  object        \n",
      " 1   customer_id                    89316 non-null  object        \n",
      " 2   order_status                   89316 non-null  object        \n",
      " 3   order_purchase_timestamp       89316 non-null  datetime64[ns]\n",
      " 4   order_approved_at              89307 non-null  datetime64[ns]\n",
      " 5   order_delivered_timestamp      87427 non-null  datetime64[ns]\n",
      " 6   order_estimated_delivery_date  89316 non-null  datetime64[ns]\n",
      " 7   product_id                     89316 non-null  object        \n",
      " 8   seller_id                      89316 non-null  object        \n",
      " 9   price                          89316 non-null  float64       \n",
      " 10  shipping_charges               89316 non-null  float64       \n",
      " 11  customer_zip_code_prefix       89316 non-null  int64         \n",
      " 12  customer_city                  89316 non-null  object        \n",
      " 13  customer_state                 89316 non-null  object        \n",
      " 14  product_category_name          89008 non-null  object        \n",
      " 15  product_weight_g               89301 non-null  float64       \n",
      " 16  product_length_cm              89301 non-null  float64       \n",
      " 17  product_height_cm              89301 non-null  float64       \n",
      " 18  product_width_cm               89301 non-null  float64       \n",
      " 19  payment_sequential             89316 non-null  int64         \n",
      " 20  payment_type                   89316 non-null  object        \n",
      " 21  payment_installments           89316 non-null  int64         \n",
      " 22  payment_value                  89316 non-null  float64       \n",
      "dtypes: datetime64[ns](4), float64(7), int64(3), object(9)\n",
      "memory usage: 15.7+ MB\n"
     ]
    }
   ],
   "source": [
    "# Changing datatypes of 'order_purchase_timestamp', 'order_approved_at', 'order_delivered_timestamp', 'order_estimated_delivery_date'\n",
    "df[['order_purchase_timestamp', 'order_approved_at', 'order_delivered_timestamp', 'order_estimated_delivery_date']] = df[['order_purchase_timestamp', 'order_approved_at', 'order_delivered_timestamp', 'order_estimated_delivery_date']].apply(pd.to_datetime)\n",
    "df.info()"
   ]
  },
  {
   "cell_type": "code",
   "execution_count": 113,
   "metadata": {},
   "outputs": [
    {
     "data": {
      "text/plain": [
       "order_status\n",
       "delivered      87428\n",
       "shipped          936\n",
       "canceled         409\n",
       "processing       273\n",
       "invoiced         266\n",
       "unavailable        2\n",
       "approved           2\n",
       "Name: count, dtype: int64"
      ]
     },
     "execution_count": 113,
     "metadata": {},
     "output_type": "execute_result"
    }
   ],
   "source": [
    "# Check kinds of order status\n",
    "df['order_status'].value_counts()"
   ]
  },
  {
   "cell_type": "markdown",
   "metadata": {},
   "source": [
    "* For the current the analysis - we will only select the delivered orders"
   ]
  },
  {
   "cell_type": "code",
   "execution_count": 114,
   "metadata": {},
   "outputs": [],
   "source": [
    "df = df[df['order_status'] == 'delivered'].drop(columns=['order_status'])"
   ]
  },
  {
   "cell_type": "code",
   "execution_count": 115,
   "metadata": {},
   "outputs": [
    {
     "data": {
      "text/html": [
       "<div>\n",
       "<style scoped>\n",
       "    .dataframe tbody tr th:only-of-type {\n",
       "        vertical-align: middle;\n",
       "    }\n",
       "\n",
       "    .dataframe tbody tr th {\n",
       "        vertical-align: top;\n",
       "    }\n",
       "\n",
       "    .dataframe thead th {\n",
       "        text-align: right;\n",
       "    }\n",
       "</style>\n",
       "<table border=\"1\" class=\"dataframe\">\n",
       "  <thead>\n",
       "    <tr style=\"text-align: right;\">\n",
       "      <th></th>\n",
       "      <th>order_id</th>\n",
       "      <th>customer_id</th>\n",
       "      <th>order_purchase_timestamp</th>\n",
       "      <th>order_approved_at</th>\n",
       "      <th>order_delivered_timestamp</th>\n",
       "      <th>order_estimated_delivery_date</th>\n",
       "      <th>product_id</th>\n",
       "      <th>seller_id</th>\n",
       "      <th>price</th>\n",
       "      <th>shipping_charges</th>\n",
       "      <th>...</th>\n",
       "      <th>customer_state</th>\n",
       "      <th>product_category_name</th>\n",
       "      <th>product_weight_g</th>\n",
       "      <th>product_length_cm</th>\n",
       "      <th>product_height_cm</th>\n",
       "      <th>product_width_cm</th>\n",
       "      <th>payment_sequential</th>\n",
       "      <th>payment_type</th>\n",
       "      <th>payment_installments</th>\n",
       "      <th>payment_value</th>\n",
       "    </tr>\n",
       "  </thead>\n",
       "  <tbody>\n",
       "    <tr>\n",
       "      <th>0</th>\n",
       "      <td>Axfy13Hk4PIk</td>\n",
       "      <td>hCT0x9JiGXBQ</td>\n",
       "      <td>2017-10-22 18:57:54</td>\n",
       "      <td>2017-10-22 19:14:13</td>\n",
       "      <td>2017-10-26 22:19:52</td>\n",
       "      <td>2017-11-09</td>\n",
       "      <td>90K0C1fIyQUf</td>\n",
       "      <td>ZWM05J9LcBSF</td>\n",
       "      <td>223.51</td>\n",
       "      <td>84.65</td>\n",
       "      <td>...</td>\n",
       "      <td>SP</td>\n",
       "      <td>toys</td>\n",
       "      <td>491.0</td>\n",
       "      <td>19.0</td>\n",
       "      <td>12.0</td>\n",
       "      <td>16.0</td>\n",
       "      <td>1</td>\n",
       "      <td>credit_card</td>\n",
       "      <td>1</td>\n",
       "      <td>259.14</td>\n",
       "    </tr>\n",
       "  </tbody>\n",
       "</table>\n",
       "<p>1 rows × 22 columns</p>\n",
       "</div>"
      ],
      "text/plain": [
       "       order_id   customer_id order_purchase_timestamp   order_approved_at  \\\n",
       "0  Axfy13Hk4PIk  hCT0x9JiGXBQ      2017-10-22 18:57:54 2017-10-22 19:14:13   \n",
       "\n",
       "  order_delivered_timestamp order_estimated_delivery_date    product_id  \\\n",
       "0       2017-10-26 22:19:52                    2017-11-09  90K0C1fIyQUf   \n",
       "\n",
       "      seller_id   price  shipping_charges  ...  customer_state  \\\n",
       "0  ZWM05J9LcBSF  223.51             84.65  ...              SP   \n",
       "\n",
       "  product_category_name product_weight_g product_length_cm  product_height_cm  \\\n",
       "0                  toys            491.0              19.0               12.0   \n",
       "\n",
       "   product_width_cm  payment_sequential  payment_type  payment_installments  \\\n",
       "0              16.0                   1   credit_card                     1   \n",
       "\n",
       "  payment_value  \n",
       "0        259.14  \n",
       "\n",
       "[1 rows x 22 columns]"
      ]
     },
     "execution_count": 115,
     "metadata": {},
     "output_type": "execute_result"
    }
   ],
   "source": [
    "df.head(1)"
   ]
  },
  {
   "cell_type": "code",
   "execution_count": 116,
   "metadata": {},
   "outputs": [
    {
     "data": {
      "text/plain": [
       "order_id                           0\n",
       "customer_id                        0\n",
       "order_purchase_timestamp           0\n",
       "order_approved_at                  9\n",
       "order_delivered_timestamp          6\n",
       "order_estimated_delivery_date      0\n",
       "product_id                         0\n",
       "seller_id                          0\n",
       "price                              0\n",
       "shipping_charges                   0\n",
       "customer_zip_code_prefix           0\n",
       "customer_city                      0\n",
       "customer_state                     0\n",
       "product_category_name            289\n",
       "product_weight_g                  15\n",
       "product_length_cm                 15\n",
       "product_height_cm                 15\n",
       "product_width_cm                  15\n",
       "payment_sequential                 0\n",
       "payment_type                       0\n",
       "payment_installments               0\n",
       "payment_value                      0\n",
       "dtype: int64"
      ]
     },
     "execution_count": 116,
     "metadata": {},
     "output_type": "execute_result"
    }
   ],
   "source": [
    "# Check for Null values\n",
    "df.isna().sum()"
   ]
  },
  {
   "cell_type": "code",
   "execution_count": 117,
   "metadata": {},
   "outputs": [
    {
     "data": {
      "text/plain": [
       "order_id                           0\n",
       "customer_id                        0\n",
       "order_purchase_timestamp           0\n",
       "order_approved_at                  0\n",
       "order_delivered_timestamp          0\n",
       "order_estimated_delivery_date      0\n",
       "product_id                         0\n",
       "seller_id                          0\n",
       "price                              0\n",
       "shipping_charges                   0\n",
       "customer_zip_code_prefix           0\n",
       "customer_city                      0\n",
       "customer_state                     0\n",
       "product_category_name            289\n",
       "product_weight_g                  15\n",
       "product_length_cm                 15\n",
       "product_height_cm                 15\n",
       "product_width_cm                  15\n",
       "payment_sequential                 0\n",
       "payment_type                       0\n",
       "payment_installments               0\n",
       "payment_value                      0\n",
       "dtype: int64"
      ]
     },
     "execution_count": 117,
     "metadata": {},
     "output_type": "execute_result"
    }
   ],
   "source": [
    "# Drop rows containg null values from 'order_approved_at', 'order_delivered_timestamp' columns \n",
    "# As for null values from product-related columns - we will replace them with mean and mode accordingly\n",
    "df = df.dropna(subset=['order_approved_at', 'order_delivered_timestamp'])\n",
    "df.isna().sum()"
   ]
  },
  {
   "cell_type": "code",
   "execution_count": 118,
   "metadata": {},
   "outputs": [
    {
     "name": "stdout",
     "output_type": "stream",
     "text": [
      "Total Null Value in df now - 0\n"
     ]
    }
   ],
   "source": [
    "# Check kinds of 'product_category_name'\n",
    "# df['product_category_name'].mode()\n",
    "mode_categories = df['product_category_name'].mode()[0]\n",
    "df['product_category_name'] = df['product_category_name'].fillna(mode_categories)\n",
    "\n",
    "for col in ['product_weight_g', 'product_length_cm', 'product_height_cm', 'product_width_cm']:\n",
    "    mean_value_of_mode_category = df[df['product_category_name']==mode_categories][col].mean()\n",
    "    df[col] = df[col].fillna(mean_value_of_mode_category)\n",
    "\n",
    "print(f'Total Null Value in df now - {df.isna().sum().sum()}')"
   ]
  },
  {
   "cell_type": "code",
   "execution_count": 119,
   "metadata": {},
   "outputs": [
    {
     "name": "stdout",
     "output_type": "stream",
     "text": [
      "<class 'pandas.core.frame.DataFrame'>\n",
      "Index: 87413 entries, 0 to 89315\n",
      "Data columns (total 22 columns):\n",
      " #   Column                         Non-Null Count  Dtype         \n",
      "---  ------                         --------------  -----         \n",
      " 0   order_id                       87413 non-null  object        \n",
      " 1   customer_id                    87413 non-null  object        \n",
      " 2   order_purchase_timestamp       87413 non-null  datetime64[ns]\n",
      " 3   order_approved_at              87413 non-null  datetime64[ns]\n",
      " 4   order_delivered_timestamp      87413 non-null  datetime64[ns]\n",
      " 5   order_estimated_delivery_date  87413 non-null  datetime64[ns]\n",
      " 6   product_id                     87413 non-null  object        \n",
      " 7   seller_id                      87413 non-null  object        \n",
      " 8   price                          87413 non-null  float64       \n",
      " 9   shipping_charges               87413 non-null  float64       \n",
      " 10  customer_zip_code_prefix       87413 non-null  int64         \n",
      " 11  customer_city                  87413 non-null  object        \n",
      " 12  customer_state                 87413 non-null  object        \n",
      " 13  product_category_name          87413 non-null  object        \n",
      " 14  product_weight_g               87413 non-null  float64       \n",
      " 15  product_length_cm              87413 non-null  float64       \n",
      " 16  product_height_cm              87413 non-null  float64       \n",
      " 17  product_width_cm               87413 non-null  float64       \n",
      " 18  payment_sequential             87413 non-null  int64         \n",
      " 19  payment_type                   87413 non-null  object        \n",
      " 20  payment_installments           87413 non-null  int64         \n",
      " 21  payment_value                  87413 non-null  float64       \n",
      "dtypes: datetime64[ns](4), float64(7), int64(3), object(8)\n",
      "memory usage: 15.3+ MB\n"
     ]
    }
   ],
   "source": [
    "df.info()"
   ]
  },
  {
   "cell_type": "markdown",
   "metadata": {},
   "source": [
    "## Data Transformation (Feature Extraction)"
   ]
  },
  {
   "cell_type": "code",
   "execution_count": 120,
   "metadata": {},
   "outputs": [
    {
     "data": {
      "text/html": [
       "<div>\n",
       "<style scoped>\n",
       "    .dataframe tbody tr th:only-of-type {\n",
       "        vertical-align: middle;\n",
       "    }\n",
       "\n",
       "    .dataframe tbody tr th {\n",
       "        vertical-align: top;\n",
       "    }\n",
       "\n",
       "    .dataframe thead th {\n",
       "        text-align: right;\n",
       "    }\n",
       "</style>\n",
       "<table border=\"1\" class=\"dataframe\">\n",
       "  <thead>\n",
       "    <tr style=\"text-align: right;\">\n",
       "      <th></th>\n",
       "      <th>order_id</th>\n",
       "      <th>customer_id</th>\n",
       "      <th>order_purchase_timestamp</th>\n",
       "      <th>order_approved_at</th>\n",
       "      <th>order_delivered_timestamp</th>\n",
       "      <th>order_estimated_delivery_date</th>\n",
       "      <th>product_id</th>\n",
       "      <th>seller_id</th>\n",
       "      <th>price</th>\n",
       "      <th>shipping_charges</th>\n",
       "      <th>...</th>\n",
       "      <th>product_category_name</th>\n",
       "      <th>product_weight_g</th>\n",
       "      <th>product_length_cm</th>\n",
       "      <th>product_height_cm</th>\n",
       "      <th>product_width_cm</th>\n",
       "      <th>payment_sequential</th>\n",
       "      <th>payment_type</th>\n",
       "      <th>payment_installments</th>\n",
       "      <th>payment_value</th>\n",
       "      <th>is_late</th>\n",
       "    </tr>\n",
       "  </thead>\n",
       "  <tbody>\n",
       "    <tr>\n",
       "      <th>0</th>\n",
       "      <td>Axfy13Hk4PIk</td>\n",
       "      <td>hCT0x9JiGXBQ</td>\n",
       "      <td>2017-10-22 18:57:54</td>\n",
       "      <td>2017-10-22 19:14:13</td>\n",
       "      <td>2017-10-26 22:19:52</td>\n",
       "      <td>2017-11-09</td>\n",
       "      <td>90K0C1fIyQUf</td>\n",
       "      <td>ZWM05J9LcBSF</td>\n",
       "      <td>223.51</td>\n",
       "      <td>84.65</td>\n",
       "      <td>...</td>\n",
       "      <td>toys</td>\n",
       "      <td>491.0</td>\n",
       "      <td>19.0</td>\n",
       "      <td>12.0</td>\n",
       "      <td>16.0</td>\n",
       "      <td>1</td>\n",
       "      <td>credit_card</td>\n",
       "      <td>1</td>\n",
       "      <td>259.14</td>\n",
       "      <td>0</td>\n",
       "    </tr>\n",
       "  </tbody>\n",
       "</table>\n",
       "<p>1 rows × 23 columns</p>\n",
       "</div>"
      ],
      "text/plain": [
       "       order_id   customer_id order_purchase_timestamp   order_approved_at  \\\n",
       "0  Axfy13Hk4PIk  hCT0x9JiGXBQ      2017-10-22 18:57:54 2017-10-22 19:14:13   \n",
       "\n",
       "  order_delivered_timestamp order_estimated_delivery_date    product_id  \\\n",
       "0       2017-10-26 22:19:52                    2017-11-09  90K0C1fIyQUf   \n",
       "\n",
       "      seller_id   price  shipping_charges  ...  product_category_name  \\\n",
       "0  ZWM05J9LcBSF  223.51             84.65  ...                   toys   \n",
       "\n",
       "  product_weight_g product_length_cm product_height_cm  product_width_cm  \\\n",
       "0            491.0              19.0              12.0              16.0   \n",
       "\n",
       "   payment_sequential  payment_type  payment_installments  payment_value  \\\n",
       "0                   1   credit_card                     1         259.14   \n",
       "\n",
       "  is_late  \n",
       "0       0  \n",
       "\n",
       "[1 rows x 23 columns]"
      ]
     },
     "execution_count": 120,
     "metadata": {},
     "output_type": "execute_result"
    }
   ],
   "source": [
    "# Add class column 'is_late' 1 if order_delivered_timestamp is greater than order_estimated_delivery_date\n",
    "df['is_late'] = (df['order_delivered_timestamp']>df['order_estimated_delivery_date']).astype(int)\n",
    "df.head(1)"
   ]
  },
  {
   "cell_type": "code",
   "execution_count": 121,
   "metadata": {},
   "outputs": [
    {
     "data": {
      "text/plain": [
       "is_late\n",
       "0    80676\n",
       "1     6737\n",
       "Name: count, dtype: int64"
      ]
     },
     "execution_count": 121,
     "metadata": {},
     "output_type": "execute_result"
    }
   ],
   "source": [
    "# Check counts of class\n",
    "df['is_late'].value_counts()"
   ]
  },
  {
   "cell_type": "markdown",
   "metadata": {},
   "source": [
    "* The dataset is highly imbalanced - and this is natural for real-world datasets - later on we will use sampling techniques to transform the data"
   ]
  },
  {
   "cell_type": "code",
   "execution_count": 123,
   "metadata": {},
   "outputs": [
    {
     "data": {
      "text/html": [
       "<div>\n",
       "<style scoped>\n",
       "    .dataframe tbody tr th:only-of-type {\n",
       "        vertical-align: middle;\n",
       "    }\n",
       "\n",
       "    .dataframe tbody tr th {\n",
       "        vertical-align: top;\n",
       "    }\n",
       "\n",
       "    .dataframe thead th {\n",
       "        text-align: right;\n",
       "    }\n",
       "</style>\n",
       "<table border=\"1\" class=\"dataframe\">\n",
       "  <thead>\n",
       "    <tr style=\"text-align: right;\">\n",
       "      <th></th>\n",
       "      <th>order_id</th>\n",
       "      <th>customer_id</th>\n",
       "      <th>order_purchase_timestamp</th>\n",
       "      <th>order_approved_at</th>\n",
       "      <th>order_delivered_timestamp</th>\n",
       "      <th>order_estimated_delivery_date</th>\n",
       "      <th>product_id</th>\n",
       "      <th>seller_id</th>\n",
       "      <th>price</th>\n",
       "      <th>shipping_charges</th>\n",
       "      <th>...</th>\n",
       "      <th>customer_city</th>\n",
       "      <th>customer_state</th>\n",
       "      <th>product_category_name</th>\n",
       "      <th>product_weight_g</th>\n",
       "      <th>payment_sequential</th>\n",
       "      <th>payment_type</th>\n",
       "      <th>payment_installments</th>\n",
       "      <th>payment_value</th>\n",
       "      <th>is_late</th>\n",
       "      <th>product_volume</th>\n",
       "    </tr>\n",
       "  </thead>\n",
       "  <tbody>\n",
       "    <tr>\n",
       "      <th>0</th>\n",
       "      <td>Axfy13Hk4PIk</td>\n",
       "      <td>hCT0x9JiGXBQ</td>\n",
       "      <td>2017-10-22 18:57:54</td>\n",
       "      <td>2017-10-22 19:14:13</td>\n",
       "      <td>2017-10-26 22:19:52</td>\n",
       "      <td>2017-11-09</td>\n",
       "      <td>90K0C1fIyQUf</td>\n",
       "      <td>ZWM05J9LcBSF</td>\n",
       "      <td>223.51</td>\n",
       "      <td>84.65</td>\n",
       "      <td>...</td>\n",
       "      <td>varzea paulista</td>\n",
       "      <td>SP</td>\n",
       "      <td>toys</td>\n",
       "      <td>491.0</td>\n",
       "      <td>1</td>\n",
       "      <td>credit_card</td>\n",
       "      <td>1</td>\n",
       "      <td>259.14</td>\n",
       "      <td>0</td>\n",
       "      <td>3648.0</td>\n",
       "    </tr>\n",
       "  </tbody>\n",
       "</table>\n",
       "<p>1 rows × 21 columns</p>\n",
       "</div>"
      ],
      "text/plain": [
       "       order_id   customer_id order_purchase_timestamp   order_approved_at  \\\n",
       "0  Axfy13Hk4PIk  hCT0x9JiGXBQ      2017-10-22 18:57:54 2017-10-22 19:14:13   \n",
       "\n",
       "  order_delivered_timestamp order_estimated_delivery_date    product_id  \\\n",
       "0       2017-10-26 22:19:52                    2017-11-09  90K0C1fIyQUf   \n",
       "\n",
       "      seller_id   price  shipping_charges  ...    customer_city  \\\n",
       "0  ZWM05J9LcBSF  223.51             84.65  ...  varzea paulista   \n",
       "\n",
       "  customer_state product_category_name product_weight_g  payment_sequential  \\\n",
       "0             SP                  toys            491.0                   1   \n",
       "\n",
       "   payment_type payment_installments  payment_value  is_late  product_volume  \n",
       "0   credit_card                    1         259.14        0          3648.0  \n",
       "\n",
       "[1 rows x 21 columns]"
      ]
     },
     "execution_count": 123,
     "metadata": {},
     "output_type": "execute_result"
    }
   ],
   "source": [
    "# Creating 'product_vol' column by using product's length, width, and height\n",
    "df['product_volume'] = df['product_length_cm'] * df['product_height_cm'] * df['product_width_cm']\n",
    "df = df.drop(columns=['product_length_cm', 'product_height_cm', 'product_width_cm'])\n",
    "df.head(1)"
   ]
  },
  {
   "cell_type": "code",
   "execution_count": 124,
   "metadata": {},
   "outputs": [
    {
     "data": {
      "text/plain": [
       "Index(['order_id', 'customer_id', 'order_purchase_timestamp',\n",
       "       'order_approved_at', 'order_delivered_timestamp',\n",
       "       'order_estimated_delivery_date', 'product_id', 'seller_id', 'price',\n",
       "       'shipping_charges', 'customer_zip_code_prefix', 'customer_city',\n",
       "       'customer_state', 'product_category_name', 'product_weight_g',\n",
       "       'payment_sequential', 'payment_type', 'payment_installments',\n",
       "       'payment_value', 'is_late', 'product_volume'],\n",
       "      dtype='object')"
      ]
     },
     "execution_count": 124,
     "metadata": {},
     "output_type": "execute_result"
    }
   ],
   "source": [
    "df.columns"
   ]
  },
  {
   "cell_type": "code",
   "execution_count": 125,
   "metadata": {},
   "outputs": [],
   "source": [
    "# df.to_csv('modified1.csv', index=False)"
   ]
  }
 ],
 "metadata": {
  "kernelspec": {
   "display_name": "base",
   "language": "python",
   "name": "python3"
  },
  "language_info": {
   "codemirror_mode": {
    "name": "ipython",
    "version": 3
   },
   "file_extension": ".py",
   "mimetype": "text/x-python",
   "name": "python",
   "nbconvert_exporter": "python",
   "pygments_lexer": "ipython3",
   "version": "3.11.5"
  }
 },
 "nbformat": 4,
 "nbformat_minor": 2
}
